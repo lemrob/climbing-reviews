{
 "cells": [
  {
   "cell_type": "markdown",
   "metadata": {},
   "source": [
    "# Dick's Climbing Reviews\n",
    "\n",
    "What are the average ratings for Dicks climbing?\n",
    "\n",
    "What does the distribution of reviews look like?"
   ]
  },
  {
   "cell_type": "markdown",
   "metadata": {},
   "source": [
    "## Web Scraping Dick's Climbing\n",
    "\n",
    "We can see from this analysis that the reviews for Dick's Climbing are generally very strong! There is a huge skew towards 5*.\n",
    "\n",
    "Therefore, it makes sense to see what we can learn from those reviews that aren't so strong. For this dataset, we can class 3* or less as a 'bad review', while 4* will be classed as 'room for improvement'.\n",
    "\n",
    "\n",
    "- Collating the reviews into three separate groups:\n",
    "  - Perfect reviews (5*)\n",
    "  - Room for improvement (4*)\n",
    "  - Bad reviews (3*)\n",
    "\n",
    "To collate into these 3 dataframes, I first iterate through the JSON file from the website, collecting all review data together in a dictionary. \n",
    "\n",
    "From here, I calculate the average rating and show the review counts for each possible star rating."
   ]
  },
  {
   "cell_type": "code",
   "execution_count": 4,
   "metadata": {},
   "outputs": [
    {
     "name": "stdout",
     "output_type": "stream",
     "text": [
      "Collecting requests\n",
      "  Using cached requests-2.31.0-py3-none-any.whl (62 kB)\n",
      "Collecting charset-normalizer<4,>=2\n",
      "  Downloading charset_normalizer-3.3.2-cp311-cp311-macosx_11_0_arm64.whl (118 kB)\n",
      "\u001b[2K     \u001b[90m━━━━━━━━━━━━━━━━━━━━━━━━━━━━━━━━━━━━━━━\u001b[0m \u001b[32m119.0/119.0 kB\u001b[0m \u001b[31m1.3 MB/s\u001b[0m eta \u001b[36m0:00:00\u001b[0ma \u001b[36m0:00:01\u001b[0m\n",
      "\u001b[?25hRequirement already satisfied: idna<4,>=2.5 in /Users/liam.robinson/Library/Python/3.11/lib/python/site-packages (from requests) (3.4)\n",
      "Collecting urllib3<3,>=1.21.1\n",
      "  Downloading urllib3-2.0.7-py3-none-any.whl (124 kB)\n",
      "\u001b[2K     \u001b[90m━━━━━━━━━━━━━━━━━━━━━━━━━━━━━━━━━━━━━━━\u001b[0m \u001b[32m124.2/124.2 kB\u001b[0m \u001b[31m5.2 MB/s\u001b[0m eta \u001b[36m0:00:00\u001b[0m\n",
      "\u001b[?25hCollecting certifi>=2017.4.17\n",
      "  Downloading certifi-2023.7.22-py3-none-any.whl (158 kB)\n",
      "\u001b[2K     \u001b[90m━━━━━━━━━━━━━━━━━━━━━━━━━━━━━━━━━━━━━━━\u001b[0m \u001b[32m158.3/158.3 kB\u001b[0m \u001b[31m5.5 MB/s\u001b[0m eta \u001b[36m0:00:00\u001b[0m\n",
      "\u001b[?25hInstalling collected packages: urllib3, charset-normalizer, certifi, requests\n",
      "Successfully installed certifi-2023.7.22 charset-normalizer-3.3.2 requests-2.31.0 urllib3-2.0.7\n",
      "\n",
      "\u001b[1m[\u001b[0m\u001b[34;49mnotice\u001b[0m\u001b[1;39;49m]\u001b[0m\u001b[39;49m A new release of pip available: \u001b[0m\u001b[31;49m22.3.1\u001b[0m\u001b[39;49m -> \u001b[0m\u001b[32;49m23.3.1\u001b[0m\n",
      "\u001b[1m[\u001b[0m\u001b[34;49mnotice\u001b[0m\u001b[1;39;49m]\u001b[0m\u001b[39;49m To update, run: \u001b[0m\u001b[32;49mpip3 install --upgrade pip\u001b[0m\n",
      "Note: you may need to restart the kernel to use updated packages.\n"
     ]
    }
   ],
   "source": [
    "pip install requests"
   ]
  },
  {
   "cell_type": "code",
   "execution_count": 21,
   "metadata": {},
   "outputs": [
    {
     "name": "stdout",
     "output_type": "stream",
     "text": [
      "Collecting squarify\n",
      "  Downloading squarify-0.4.3-py3-none-any.whl (4.3 kB)\n",
      "Installing collected packages: squarify\n",
      "Successfully installed squarify-0.4.3\n",
      "\n",
      "\u001b[1m[\u001b[0m\u001b[34;49mnotice\u001b[0m\u001b[1;39;49m]\u001b[0m\u001b[39;49m A new release of pip available: \u001b[0m\u001b[31;49m22.3.1\u001b[0m\u001b[39;49m -> \u001b[0m\u001b[32;49m23.3.1\u001b[0m\n",
      "\u001b[1m[\u001b[0m\u001b[34;49mnotice\u001b[0m\u001b[1;39;49m]\u001b[0m\u001b[39;49m To update, run: \u001b[0m\u001b[32;49mpip3 install --upgrade pip\u001b[0m\n",
      "Note: you may need to restart the kernel to use updated packages.\n"
     ]
    }
   ],
   "source": [
    "pip install squarify"
   ]
  },
  {
   "cell_type": "code",
   "execution_count": 3,
   "metadata": {},
   "outputs": [],
   "source": [
    "# importing packages\n",
    "import requests\n",
    "import pandas as pd\n",
    "from matplotlib import pyplot as plt"
   ]
  },
  {
   "cell_type": "code",
   "execution_count": 5,
   "metadata": {},
   "outputs": [],
   "source": [
    "# building function to calculate the average \n",
    "def average_rating(rating_list):\n",
    "    # input: the lsit of ratings showing all ratings found on the website\n",
    "        avg = round(sum(rating_list) / len(rating_list), 2)\n",
    "        print(\"The average rating is: \" + str(avg))\n",
    "\n",
    "\n",
    "# building function to show the bad reviews in order of worst to best. The category for a 'bad' review is if the rating was 3 or less out of 5\n",
    "def worst_reviews(id_rating_dict):\n",
    "    # input: the rating list showing all ratings found on the website and the corresponding user_id's\n",
    "    worst_ratings = {}\n",
    "    value = rating, comments\n",
    "    for key, value in id_rating_dict.items():\n",
    "         if value[0] <= 3:\n",
    "              worst_ratings[key] = value\n",
    "    worst_ratings_asc = sorted(worst_ratings.items(), key=lambda u_r: u_r[1])\n",
    "    return dict(worst_ratings_asc)\n",
    "\n",
    "# 5 star reviews!\n",
    "def best_reviews(id_rating_dict):\n",
    "    best_ratings = {}\n",
    "    value = [rating, comments]\n",
    "    for key, value in id_rating_dict.items():\n",
    "         if value[0] == 5:\n",
    "              best_ratings[key] = value\n",
    "    best_ratings_list = sorted(best_ratings.items(), key=lambda u_r: u_r[1])\n",
    "    return dict(best_ratings_list)\n",
    "\n",
    "# 4 star reviews. Still room for improvement.\n",
    "def room_for_improvement(id_rating_dict):\n",
    "    good_ratings = {}\n",
    "    value = [rating, comments]\n",
    "    for key, value in id_rating_dict.items():\n",
    "         if value[0] == 4:\n",
    "              good_ratings[key] = value\n",
    "    good_ratings_list = sorted(good_ratings.items(), key=lambda u_r: u_r[1])\n",
    "    return dict(good_ratings_list)\n",
    "\n",
    "\n",
    "\n",
    "# initialize\n",
    "total_pages = 1\n",
    "page = 0\n",
    "rating_list = []\n",
    "id_rating_dict = {}\n",
    "\n",
    "\n",
    "# while loop to iterate through each page in the website\n",
    "while page < total_pages:\n",
    "    url = f'https://api.reviews.io/merchant/reviews?store=dicks-climbing&min_rating=0&order=desc&per_page=16&page={page}'\n",
    "    resp = requests.get(url)\n",
    "    review_data = resp.json()\n",
    "    if page == 0:\n",
    "        total_pages = review_data['total_pages']\n",
    "        # print(total_pages)\n",
    "    page += 1\n",
    "    user_review = review_data['reviews']    \n",
    "    for u in user_review:\n",
    "        rating = u['rating']\n",
    "        comments = u['comments']\n",
    "        rating_list.append(rating)\n",
    "        id_rating_dict[u['user_id']] = rating, comments\n",
    "\n",
    "\n",
    "\n"
   ]
  },
  {
   "cell_type": "code",
   "execution_count": 127,
   "metadata": {},
   "outputs": [
    {
     "data": {
      "text/html": [
       "<div>\n",
       "<style scoped>\n",
       "    .dataframe tbody tr th:only-of-type {\n",
       "        vertical-align: middle;\n",
       "    }\n",
       "\n",
       "    .dataframe tbody tr th {\n",
       "        vertical-align: top;\n",
       "    }\n",
       "\n",
       "    .dataframe thead th {\n",
       "        text-align: right;\n",
       "    }\n",
       "</style>\n",
       "<table border=\"1\" class=\"dataframe\">\n",
       "  <thead>\n",
       "    <tr style=\"text-align: right;\">\n",
       "      <th></th>\n",
       "      <th></th>\n",
       "      <th>star_rating</th>\n",
       "      <th>comments</th>\n",
       "    </tr>\n",
       "  </thead>\n",
       "  <tbody>\n",
       "    <tr>\n",
       "      <th rowspan=\"5\" valign=\"top\">3_star_or_less</th>\n",
       "      <th>9</th>\n",
       "      <td>3</td>\n",
       "      <td>I ordered a Moon crash pad which arrived swift...</td>\n",
       "    </tr>\n",
       "    <tr>\n",
       "      <th>10</th>\n",
       "      <td>3</td>\n",
       "      <td>Item arrived very quickly. Order confirmation,...</td>\n",
       "    </tr>\n",
       "    <tr>\n",
       "      <th>11</th>\n",
       "      <td>3</td>\n",
       "      <td>Its not the stores problem but DHL charged ext...</td>\n",
       "    </tr>\n",
       "    <tr>\n",
       "      <th>12</th>\n",
       "      <td>3</td>\n",
       "      <td>Me habeis pedido una valoracion de los articul...</td>\n",
       "    </tr>\n",
       "    <tr>\n",
       "      <th>13</th>\n",
       "      <td>3</td>\n",
       "      <td>Not on DC, but havent received my package yet....</td>\n",
       "    </tr>\n",
       "  </tbody>\n",
       "</table>\n",
       "</div>"
      ],
      "text/plain": [
       "                   star_rating  \\\n",
       "3_star_or_less 9             3   \n",
       "               10            3   \n",
       "               11            3   \n",
       "               12            3   \n",
       "               13            3   \n",
       "\n",
       "                                                            comments  \n",
       "3_star_or_less 9   I ordered a Moon crash pad which arrived swift...  \n",
       "               10  Item arrived very quickly. Order confirmation,...  \n",
       "               11  Its not the stores problem but DHL charged ext...  \n",
       "               12  Me habeis pedido una valoracion de los articul...  \n",
       "               13  Not on DC, but havent received my package yet....  "
      ]
     },
     "execution_count": 127,
     "metadata": {},
     "output_type": "execute_result"
    }
   ],
   "source": [
    "# room_for_improvement(id_rating_dict)\n",
    "best_reviews_values = best_reviews(id_rating_dict).values()\n",
    "improvement_reviews_values = room_for_improvement(id_rating_dict).values()\n",
    "worst_reviews_values = worst_reviews(id_rating_dict).values()\n",
    "\n",
    "best_df = pd.DataFrame(best_reviews_values, columns = ['star_rating', 'comments'])\n",
    "improvement_df = pd.DataFrame(improvement_reviews_values, columns = ['star_rating', 'comments'])\n",
    "worst_df = pd.DataFrame(worst_reviews_values, columns = ['star_rating', 'comments'])\n",
    "frames = [best_df, improvement_df, worst_df]\n",
    "\n",
    "all_comments_df = pd.concat(frames, keys=[\"5_star\", \"4_star\", \"3_star_or_less\"])\n",
    "all_comments_df.tail()\n",
    "\n",
    "\n",
    "\n",
    "\n",
    "\n",
    "\n",
    "\n",
    "# for key, value in best_reviews(id_rating_dict):\n",
    "#     best_reviews_values.append(value)\n",
    "\n",
    "\n"
   ]
  },
  {
   "cell_type": "code",
   "execution_count": 128,
   "metadata": {},
   "outputs": [
    {
     "name": "stdout",
     "output_type": "stream",
     "text": [
      "The average rating is: 4.94\n"
     ]
    }
   ],
   "source": [
    "average_rating(rating_list)\n",
    "\n"
   ]
  },
  {
   "cell_type": "code",
   "execution_count": 137,
   "metadata": {},
   "outputs": [
    {
     "data": {
      "image/png": "[encoded data removed]",
      "text/plain": [
       "<Figure size 640x480 with 1 Axes>"
      ]
     },
     "metadata": {},
     "output_type": "display_data"
    }
   ],
   "source": [
    "count_dict = {}\n",
    "star = [0, 1, 2, 3, 4, 5]\n",
    "\n",
    "for i in star:\n",
    "        count = rating_list.count(i) \n",
    "        count_dict[i] = count\n",
    "\n",
    "count_dict\n",
    "\n",
    "ratings_df = pd.DataFrame(count_dict.items(), columns = ['star_rating', 'count'])\n",
    "ax = ratings_df.plot.bar(rot=0)\n",
    "\n",
    "\n"
   ]
  },
  {
   "cell_type": "code",
   "execution_count": 130,
   "metadata": {},
   "outputs": [
    {
     "data": {
      "text/html": [
       "<div>\n",
       "<style scoped>\n",
       "    .dataframe tbody tr th:only-of-type {\n",
       "        vertical-align: middle;\n",
       "    }\n",
       "\n",
       "    .dataframe tbody tr th {\n",
       "        vertical-align: top;\n",
       "    }\n",
       "\n",
       "    .dataframe thead th {\n",
       "        text-align: right;\n",
       "    }\n",
       "</style>\n",
       "<table border=\"1\" class=\"dataframe\">\n",
       "  <thead>\n",
       "    <tr style=\"text-align: right;\">\n",
       "      <th></th>\n",
       "      <th>Star Rating</th>\n",
       "      <th>Count</th>\n",
       "    </tr>\n",
       "  </thead>\n",
       "  <tbody>\n",
       "    <tr>\n",
       "      <th>0</th>\n",
       "      <td>0</td>\n",
       "      <td>0</td>\n",
       "    </tr>\n",
       "    <tr>\n",
       "      <th>1</th>\n",
       "      <td>1</td>\n",
       "      <td>4</td>\n",
       "    </tr>\n",
       "    <tr>\n",
       "      <th>2</th>\n",
       "      <td>2</td>\n",
       "      <td>2</td>\n",
       "    </tr>\n",
       "    <tr>\n",
       "      <th>3</th>\n",
       "      <td>3</td>\n",
       "      <td>8</td>\n",
       "    </tr>\n",
       "    <tr>\n",
       "      <th>4</th>\n",
       "      <td>4</td>\n",
       "      <td>38</td>\n",
       "    </tr>\n",
       "    <tr>\n",
       "      <th>5</th>\n",
       "      <td>5</td>\n",
       "      <td>1307</td>\n",
       "    </tr>\n",
       "  </tbody>\n",
       "</table>\n",
       "</div>"
      ],
      "text/plain": [
       "   Star Rating  Count\n",
       "0            0      0\n",
       "1            1      4\n",
       "2            2      2\n",
       "3            3      8\n",
       "4            4     38\n",
       "5            5   1307"
      ]
     },
     "execution_count": 130,
     "metadata": {},
     "output_type": "execute_result"
    }
   ],
   "source": [
    "ratings_df.head(6)"
   ]
  },
  {
   "cell_type": "markdown",
   "metadata": {},
   "source": [
    "## Data Exploration of negative reviews\n",
    "\n",
    "Lets dig into the data to better understand the nature of each category of review.\n",
    "Some initial questions that come to mind:\n",
    "- How long are the reviews? \n",
    "- What is the length of the average word length? Perhaps more positive reviews go into more detail, using a wider range of vocab.\n",
    "- What are the most common words? Are there any common themes that they can address to improve on the less than perfect reviews?"
   ]
  },
  {
   "cell_type": "markdown",
   "metadata": {},
   "source": [
    "## Next Stages\n",
    "\n",
    "- simple matplotlib exploration of reviews\n",
    "- create a word cloud of the most common words in the bad reviews section\n",
    "- common themes? EDA"
   ]
  },
  {
   "cell_type": "code",
   "execution_count": 131,
   "metadata": {},
   "outputs": [
    {
     "data": {
      "text/html": [
       "<div>\n",
       "<style scoped>\n",
       "    .dataframe tbody tr th:only-of-type {\n",
       "        vertical-align: middle;\n",
       "    }\n",
       "\n",
       "    .dataframe tbody tr th {\n",
       "        vertical-align: top;\n",
       "    }\n",
       "\n",
       "    .dataframe thead th {\n",
       "        text-align: right;\n",
       "    }\n",
       "</style>\n",
       "<table border=\"1\" class=\"dataframe\">\n",
       "  <thead>\n",
       "    <tr style=\"text-align: right;\">\n",
       "      <th></th>\n",
       "      <th></th>\n",
       "      <th>star_rating</th>\n",
       "      <th>comments</th>\n",
       "    </tr>\n",
       "  </thead>\n",
       "  <tbody>\n",
       "    <tr>\n",
       "      <th rowspan=\"5\" valign=\"top\">5_star</th>\n",
       "      <th>0</th>\n",
       "      <td>5</td>\n",
       "      <td>Very efficient.  No problems at all.</td>\n",
       "    </tr>\n",
       "    <tr>\n",
       "      <th>1</th>\n",
       "      <td>5</td>\n",
       "      <td>Super quick delivery!</td>\n",
       "    </tr>\n",
       "    <tr>\n",
       "      <th>2</th>\n",
       "      <td>5</td>\n",
       "      <td>...............jjj</td>\n",
       "    </tr>\n",
       "    <tr>\n",
       "      <th>3</th>\n",
       "      <td>5</td>\n",
       "      <td>1 item {dragonfly} arrived promptly as indicat...</td>\n",
       "    </tr>\n",
       "    <tr>\n",
       "      <th>4</th>\n",
       "      <td>5</td>\n",
       "      <td>1st time customer...good prices and good servi...</td>\n",
       "    </tr>\n",
       "    <tr>\n",
       "      <th>...</th>\n",
       "      <th>...</th>\n",
       "      <td>...</td>\n",
       "      <td>...</td>\n",
       "    </tr>\n",
       "    <tr>\n",
       "      <th rowspan=\"5\" valign=\"top\">3_star_or_less</th>\n",
       "      <th>9</th>\n",
       "      <td>3</td>\n",
       "      <td>I ordered a Moon crash pad which arrived swift...</td>\n",
       "    </tr>\n",
       "    <tr>\n",
       "      <th>10</th>\n",
       "      <td>3</td>\n",
       "      <td>Item arrived very quickly. Order confirmation,...</td>\n",
       "    </tr>\n",
       "    <tr>\n",
       "      <th>11</th>\n",
       "      <td>3</td>\n",
       "      <td>Its not the stores problem but DHL charged ext...</td>\n",
       "    </tr>\n",
       "    <tr>\n",
       "      <th>12</th>\n",
       "      <td>3</td>\n",
       "      <td>Me habeis pedido una valoracion de los articul...</td>\n",
       "    </tr>\n",
       "    <tr>\n",
       "      <th>13</th>\n",
       "      <td>3</td>\n",
       "      <td>Not on DC, but havent received my package yet....</td>\n",
       "    </tr>\n",
       "  </tbody>\n",
       "</table>\n",
       "<p>1331 rows × 2 columns</p>\n",
       "</div>"
      ],
      "text/plain": [
       "                   star_rating  \\\n",
       "5_star         0             5   \n",
       "               1             5   \n",
       "               2             5   \n",
       "               3             5   \n",
       "               4             5   \n",
       "...                        ...   \n",
       "3_star_or_less 9             3   \n",
       "               10            3   \n",
       "               11            3   \n",
       "               12            3   \n",
       "               13            3   \n",
       "\n",
       "                                                            comments  \n",
       "5_star         0               Very efficient.  No problems at all.   \n",
       "               1                               Super quick delivery!  \n",
       "               2                                  ...............jjj  \n",
       "               3   1 item {dragonfly} arrived promptly as indicat...  \n",
       "               4   1st time customer...good prices and good servi...  \n",
       "...                                                              ...  \n",
       "3_star_or_less 9   I ordered a Moon crash pad which arrived swift...  \n",
       "               10  Item arrived very quickly. Order confirmation,...  \n",
       "               11  Its not the stores problem but DHL charged ext...  \n",
       "               12  Me habeis pedido una valoracion de los articul...  \n",
       "               13  Not on DC, but havent received my package yet....  \n",
       "\n",
       "[1331 rows x 2 columns]"
      ]
     },
     "execution_count": 131,
     "metadata": {},
     "output_type": "execute_result"
    }
   ],
   "source": [
    "all_comments_df"
   ]
  },
  {
   "cell_type": "code",
   "execution_count": 147,
   "metadata": {},
   "outputs": [
    {
     "name": "stdout",
     "output_type": "stream",
     "text": [
      "zsh:1: command not found: pip\n"
     ]
    }
   ],
   "source": [
    "# !pip install spacy\n",
    "# pip install wordcloud"
   ]
  },
  {
   "cell_type": "code",
   "execution_count": 164,
   "metadata": {},
   "outputs": [],
   "source": [
    "# import spacy\n",
    "import nltk\n",
    "from nltk.corpus import stopwords\n",
    "from wordcloud import WordCloud\n",
    "\n",
    "from nltk.tokenize import sent_tokenize, word_tokenize\n"
   ]
  },
  {
   "cell_type": "code",
   "execution_count": 165,
   "metadata": {},
   "outputs": [],
   "source": [
    "\n"
   ]
  },
  {
   "cell_type": "markdown",
   "metadata": {},
   "source": [
    "## Filtering out stopwords\n",
    "\n",
    "Before doing any NLP analytics, I first want to remove all stop words. These are common words (i.e. in, and) that don't add much meaning."
   ]
  },
  {
   "cell_type": "code",
   "execution_count": 166,
   "metadata": {},
   "outputs": [],
   "source": [
    "stop = stopwords.words('english')"
   ]
  },
  {
   "cell_type": "code",
   "execution_count": 143,
   "metadata": {},
   "outputs": [
    {
     "data": {
      "text/plain": [
       "5_star          0                 Very efficient.  No problems at all. \n",
       "                1                                 Super quick delivery!\n",
       "                2                                    ...............jjj\n",
       "                3     1 item {dragonfly} arrived promptly as indicat...\n",
       "                4     1st time customer...good prices and good servi...\n",
       "                                            ...                        \n",
       "3_star_or_less  9     I ordered a Moon crash pad which arrived swift...\n",
       "                10    Item arrived very quickly. Order confirmation,...\n",
       "                11    Its not the stores problem but DHL charged ext...\n",
       "                12    Me habeis pedido una valoracion de los articul...\n",
       "                13    Not on DC, but havent received my package yet....\n",
       "Name: comments, Length: 1331, dtype: object"
      ]
     },
     "execution_count": 143,
     "metadata": {},
     "output_type": "execute_result"
    }
   ],
   "source": [
    "all_comments_df['comments']"
   ]
  },
  {
   "cell_type": "code",
   "execution_count": null,
   "metadata": {},
   "outputs": [],
   "source": []
  }
 ],
 "metadata": {
  "kernelspec": {
   "display_name": "Python 3",
   "language": "python",
   "name": "python3"
  },
  "language_info": {
   "codemirror_mode": {
    "name": "ipython",
    "version": 3
   },
   "file_extension": ".py",
   "mimetype": "text/x-python",
   "name": "python",
   "nbconvert_exporter": "python",
   "pygments_lexer": "ipython3",
   "version": "3.9.7"
  },
  "orig_nbformat": 4
 },
 "nbformat": 4,
 "nbformat_minor": 2
}
